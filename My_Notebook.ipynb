{
 "cells": [
  {
   "cell_type": "markdown",
   "id": "79724e87-594f-485e-a036-aa71b9c808e2",
   "metadata": {},
   "source": [
    "My First Program"
   ]
  },
  {
   "cell_type": "code",
   "execution_count": 1,
   "id": "6880a4da-1a20-4adf-a3cd-70f0f5738473",
   "metadata": {},
   "outputs": [
    {
     "data": {
      "text/plain": [
       "2"
      ]
     },
     "execution_count": 1,
     "metadata": {},
     "output_type": "execute_result"
    }
   ],
   "source": [
    "1+1"
   ]
  },
  {
   "cell_type": "markdown",
   "id": "85d01cf8-7091-4a4b-960e-2069e0f7d78b",
   "metadata": {},
   "source": [
    "Problem 1: Find the minimum and maximum values."
   ]
  },
  {
   "cell_type": "code",
   "execution_count": 1,
   "id": "80061ead-4131-435b-9165-3e8157b1cdf6",
   "metadata": {},
   "outputs": [
    {
     "name": "stdout",
     "output_type": "stream",
     "text": [
      "5\n",
      "25\n"
     ]
    }
   ],
   "source": [
    "x = min(5, 10, 25)\n",
    "y = max(5, 10, 25)\n",
    "\n",
    "print(x)\n",
    "print(y)"
   ]
  },
  {
   "cell_type": "markdown",
   "id": "5efa3513-3df3-4ecc-8b4a-afa78a89bacb",
   "metadata": {},
   "source": [
    "Problem 2: Find the value of 4 to the power 3."
   ]
  },
  {
   "cell_type": "code",
   "execution_count": 2,
   "id": "5af0d6a9-89e4-4656-87a1-63fdf3066c4f",
   "metadata": {},
   "outputs": [
    {
     "name": "stdout",
     "output_type": "stream",
     "text": [
      "64\n"
     ]
    }
   ],
   "source": [
    "x = pow(4, 3)\n",
    "print(x)"
   ]
  },
  {
   "cell_type": "code",
   "execution_count": null,
   "id": "c3d76cd2-7351-448c-9431-0c89b442122b",
   "metadata": {},
   "outputs": [],
   "source": []
  }
 ],
 "metadata": {
  "kernelspec": {
   "display_name": "Python 3 (ipykernel)",
   "language": "python",
   "name": "python3"
  },
  "language_info": {
   "codemirror_mode": {
    "name": "ipython",
    "version": 3
   },
   "file_extension": ".py",
   "mimetype": "text/x-python",
   "name": "python",
   "nbconvert_exporter": "python",
   "pygments_lexer": "ipython3",
   "version": "3.12.11"
  }
 },
 "nbformat": 4,
 "nbformat_minor": 5
}
