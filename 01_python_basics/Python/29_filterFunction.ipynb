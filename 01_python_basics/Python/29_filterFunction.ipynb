{
 "cells": [
  {
   "cell_type": "code",
   "execution_count": 2,
   "id": "de6f8c09-6038-4dc6-990c-72324e0fb93e",
   "metadata": {},
   "outputs": [
    {
     "data": {
      "text/plain": [
       "True"
      ]
     },
     "execution_count": 2,
     "metadata": {},
     "output_type": "execute_result"
    }
   ],
   "source": [
    "def even(num):\n",
    "    return num % 2 == 0\n",
    "even(24)"
   ]
  },
  {
   "cell_type": "code",
   "execution_count": 3,
   "id": "8c927ab4-7471-4ff8-98c8-3d7ee0d282c2",
   "metadata": {},
   "outputs": [
    {
     "data": {
      "text/plain": [
       "[2, 4, 6, 8]"
      ]
     },
     "execution_count": 3,
     "metadata": {},
     "output_type": "execute_result"
    }
   ],
   "source": [
    "lst = [1, 2, 3, 4, 5, 6, 7, 8]\n",
    "list(filter(even, lst))"
   ]
  },
  {
   "cell_type": "code",
   "execution_count": 4,
   "id": "5a87ca1e-0203-49a4-961f-b559d1f1fd24",
   "metadata": {},
   "outputs": [
    {
     "data": {
      "text/plain": [
       "[6, 7, 8, 9, 10]"
      ]
     },
     "execution_count": 4,
     "metadata": {},
     "output_type": "execute_result"
    }
   ],
   "source": [
    "# filter with lambda func\n",
    "nums = [1, 2, 3, 4, 5, 6, 7, 8, 9, 10]\n",
    "grt_than_5 = list(filter(lambda x:x>5, nums))\n",
    "grt_than_5"
   ]
  },
  {
   "cell_type": "code",
   "execution_count": 5,
   "id": "577cab44-dfad-4eea-acbd-b95a106ef866",
   "metadata": {},
   "outputs": [
    {
     "data": {
      "text/plain": [
       "[6, 8, 10]"
      ]
     },
     "execution_count": 5,
     "metadata": {},
     "output_type": "execute_result"
    }
   ],
   "source": [
    "# filter with lambda and multiple conditions\n",
    "even_and_grt_than_5 = list(filter(lambda x:x>5 and x%2==0, nums))\n",
    "even_and_grt_than_5"
   ]
  },
  {
   "cell_type": "code",
   "execution_count": null,
   "id": "56ba56f9-2c9d-4614-bcf3-53facc782151",
   "metadata": {},
   "outputs": [],
   "source": [
    "# filter with dict\n",
    "# filter to check if age is greater than 25 in dict\n",
    "people = [\n",
    "    {'name':'Div', 'age':25},\n",
    "    {'name':'Eto', 'age':30},\n",
    "    {'name':'Sha', 'age':26}\n",
    "]\n",
    "def age_grt_5(person)\n",
    "list(filter(lambd))"
   ]
  }
 ],
 "metadata": {
  "kernelspec": {
   "display_name": "Python 3 (ipykernel)",
   "language": "python",
   "name": "python3"
  },
  "language_info": {
   "codemirror_mode": {
    "name": "ipython",
    "version": 3
   },
   "file_extension": ".py",
   "mimetype": "text/x-python",
   "name": "python",
   "nbconvert_exporter": "python",
   "pygments_lexer": "ipython3",
   "version": "3.12.7"
  }
 },
 "nbformat": 4,
 "nbformat_minor": 5
}
