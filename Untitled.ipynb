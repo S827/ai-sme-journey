{
 "cells": [
  {
   "cell_type": "markdown",
   "id": "5d095748-7daf-4da0-bbb4-2ede955e5175",
   "metadata": {},
   "source": [
    "Problem 1: Find the Multiplication of 2 numbers."
   ]
  },
  {
   "cell_type": "code",
   "execution_count": 2,
   "id": "8dd092d1-d3e1-46dc-b453-e0a39d50f033",
   "metadata": {
    "jp-MarkdownHeadingCollapsed": true
   },
   "outputs": [
    {
     "data": {
      "text/html": [
       "6"
      ],
      "text/latex": [
       "6"
      ],
      "text/markdown": [
       "6"
      ],
      "text/plain": [
       "[1] 6"
      ]
     },
     "metadata": {},
     "output_type": "display_data"
    }
   ],
   "source": [
    "2 * 3"
   ]
  },
  {
   "cell_type": "markdown",
   "id": "7f586064-a1f1-4bdd-af68-4a6cf2258d36",
   "metadata": {},
   "source": [
    "Problem 2: Find the Subtraction of 2 numbers."
   ]
  },
  {
   "cell_type": "code",
   "execution_count": 3,
   "id": "f5b1a940-7101-46f0-938a-a31923d4a776",
   "metadata": {},
   "outputs": [
    {
     "data": {
      "text/html": [
       "3"
      ],
      "text/latex": [
       "3"
      ],
      "text/markdown": [
       "3"
      ],
      "text/plain": [
       "[1] 3"
      ]
     },
     "metadata": {},
     "output_type": "display_data"
    }
   ],
   "source": [
    "4 - 1"
   ]
  },
  {
   "cell_type": "markdown",
   "id": "05afb202-96bb-4c93-ac37-7aca3df24a8e",
   "metadata": {},
   "source": [
    "Problem 3: Add 2 to the given number."
   ]
  },
  {
   "cell_type": "code",
   "execution_count": 4,
   "id": "fd45eab6-41f2-4880-bb69-3406494f7005",
   "metadata": {},
   "outputs": [
    {
     "data": {
      "text/html": [
       "3"
      ],
      "text/latex": [
       "3"
      ],
      "text/markdown": [
       "3"
      ],
      "text/plain": [
       "[1] 3"
      ]
     },
     "metadata": {},
     "output_type": "display_data"
    }
   ],
   "source": [
    "a <- 1\n",
    "a+2"
   ]
  },
  {
   "cell_type": "markdown",
   "id": "d82c70fa-23dc-4cd4-9f14-b4c43d52a5ae",
   "metadata": {},
   "source": [
    "Problem 4: Create a data frame"
   ]
  },
  {
   "cell_type": "code",
   "execution_count": 6,
   "id": "2b0f72c2-16a3-4016-acf0-8862e6ace923",
   "metadata": {},
   "outputs": [
    {
     "name": "stdout",
     "output_type": "stream",
     "text": [
      "  Emp_Name  Job_role\n",
      "1      Jai   Manager\n",
      "2    David Team lead\n",
      "3  Michael Developer\n"
     ]
    }
   ],
   "source": [
    "df = data.frame(Emp_Name = c(\"Jai\", \"David\", \"Michael\"),\n",
    "               Job_role = c(\"Manager\", \"Team lead\", \"Developer\"))\n",
    "print(df)"
   ]
  },
  {
   "cell_type": "code",
   "execution_count": null,
   "id": "26eef760-ef60-48d0-979f-221d4431d705",
   "metadata": {},
   "outputs": [],
   "source": []
  }
 ],
 "metadata": {
  "kernelspec": {
   "display_name": "R",
   "language": "R",
   "name": "ir"
  },
  "language_info": {
   "codemirror_mode": "r",
   "file_extension": ".r",
   "mimetype": "text/x-r-source",
   "name": "R",
   "pygments_lexer": "r",
   "version": "3.6.1"
  }
 },
 "nbformat": 4,
 "nbformat_minor": 5
}
